{
 "cells": [
  {
   "cell_type": "code",
   "execution_count": 1,
   "metadata": {},
   "outputs": [],
   "source": [
    "import glob\n",
    "import numpy as np\n",
    "from sklearn.model_selection import train_test_split\n",
    "import tensorflow as tf\n",
    "from tensorflow import keras\n",
    "import pandas as pd\n",
    "import cv2\n",
    "from tensorflow.keras.layers import Conv2D, MaxPooling2D, Dropout, Flatten, Dense\n",
    "from tensorflow.keras.models import Sequential"
   ]
  },
  {
   "cell_type": "code",
   "execution_count": 2,
   "metadata": {},
   "outputs": [],
   "source": [
    "def load_dataset():\n",
    "    mask_images = \"dataset/with_mask/*\"\n",
    "    no_mask_images = \"dataset/without_mask/*\"\n",
    "    image_size = 28\n",
    "    x_train_list = []\n",
    "    y_train_list = []\n",
    "    for image in glob.glob(mask_images):\n",
    "        try:\n",
    "            img = cv2.imread(image, cv2.COLOR_BGR2RGB)\n",
    "            img = cv2.resize(img, (image_size, image_size))\n",
    "            x_train_list.append(img)\n",
    "            y_train_list.append([0])\n",
    "        except:\n",
    "            pass\n",
    "\n",
    "    for image in glob.glob(no_mask_images):\n",
    "        try:\n",
    "            img = cv2.imread(image, cv2.COLOR_BGR2RGB)\n",
    "            img = cv2.resize(img, (image_size, image_size))\n",
    "            x_train_list.append(img)\n",
    "            y_train_list.append([1])\n",
    "        except:\n",
    "            pass\n",
    "\n",
    "    x_train_data = np.asarray(x_train_list)\n",
    "    y_train_data = np.asarray(y_train_list)\n",
    "    \n",
    "    # Normalize the data\n",
    "    x_train_data = x_train_data / 255\n",
    "    \n",
    "    print(x_train_data.shape)\n",
    "    print(y_train_data.shape)\n",
    "    \n",
    "    return x_train_data, y_train_data"
   ]
  },
  {
   "cell_type": "code",
   "execution_count": 3,
   "metadata": {},
   "outputs": [
    {
     "name": "stdout",
     "output_type": "stream",
     "text": [
      "(3810, 28, 28, 3)\n",
      "(3810, 1)\n"
     ]
    },
    {
     "data": {
      "text/plain": [
       "((2857, 28, 28, 3), (2857, 1), (953, 28, 28, 3), (953, 1))"
      ]
     },
     "execution_count": 3,
     "metadata": {},
     "output_type": "execute_result"
    }
   ],
   "source": [
    "X, Y = load_dataset()\n",
    "X_train, X_test, y_train, y_test = train_test_split(X, Y, test_size=0.25)\n",
    "X_train.shape,y_train.shape,X_test.shape,y_test.shape"
   ]
  },
  {
   "cell_type": "code",
   "execution_count": 4,
   "metadata": {},
   "outputs": [],
   "source": [
    "def build_model():\n",
    "    \n",
    "    # Define the CNN model\n",
    "    model = Sequential()\n",
    "\n",
    "    # first Convolutional Layer\n",
    "    model.add(Conv2D(32, (5,5), activation='relu', input_shape=(28, 28,3)))\n",
    "    model.add(MaxPooling2D((2, 2)))\n",
    "\n",
    "    # second Convolutional Layer\n",
    "    model.add(Conv2D(64, (5, 5), activation='relu'))\n",
    "    model.add(MaxPooling2D((2, 2)))\n",
    "    \n",
    "    # Flatten Layer\n",
    "    model.add(Flatten())\n",
    "    \n",
    "    # first Fully-Connected Layer\n",
    "    model.add(Dense(600, activation='relu'))\n",
    "    # first Dropout Layer\n",
    "    model.add(Dropout(0.5))\n",
    "    # Output Layer\n",
    "    model.add(Dense(1, activation='sigmoid'))\n",
    "\n",
    "    model.summary()\n",
    "    \n",
    "    return model"
   ]
  },
  {
   "cell_type": "code",
   "execution_count": 5,
   "metadata": {},
   "outputs": [
    {
     "name": "stdout",
     "output_type": "stream",
     "text": [
      "Model: \"sequential\"\n",
      "_________________________________________________________________\n",
      "Layer (type)                 Output Shape              Param #   \n",
      "=================================================================\n",
      "conv2d (Conv2D)              (None, 24, 24, 32)        2432      \n",
      "_________________________________________________________________\n",
      "max_pooling2d (MaxPooling2D) (None, 12, 12, 32)        0         \n",
      "_________________________________________________________________\n",
      "conv2d_1 (Conv2D)            (None, 8, 8, 64)          51264     \n",
      "_________________________________________________________________\n",
      "max_pooling2d_1 (MaxPooling2 (None, 4, 4, 64)          0         \n",
      "_________________________________________________________________\n",
      "flatten (Flatten)            (None, 1024)              0         \n",
      "_________________________________________________________________\n",
      "dense (Dense)                (None, 600)               615000    \n",
      "_________________________________________________________________\n",
      "dropout (Dropout)            (None, 600)               0         \n",
      "_________________________________________________________________\n",
      "dense_1 (Dense)              (None, 1)                 601       \n",
      "=================================================================\n",
      "Total params: 669,297\n",
      "Trainable params: 669,297\n",
      "Non-trainable params: 0\n",
      "_________________________________________________________________\n"
     ]
    }
   ],
   "source": [
    "model = build_model()"
   ]
  },
  {
   "cell_type": "code",
   "execution_count": 6,
   "metadata": {},
   "outputs": [],
   "source": [
    "model.compile(optimizer='adam', \n",
    "              loss='binary_crossentropy',\n",
    "              metrics=['accuracy'])"
   ]
  },
  {
   "cell_type": "code",
   "execution_count": 7,
   "metadata": {},
   "outputs": [
    {
     "name": "stdout",
     "output_type": "stream",
     "text": [
      "Epoch 1/20\n",
      "29/29 [==============================] - 1s 40ms/step - loss: 0.4140 - accuracy: 0.8127\n",
      "Epoch 2/20\n",
      "29/29 [==============================] - 1s 39ms/step - loss: 0.2028 - accuracy: 0.9335\n",
      "Epoch 3/20\n",
      "29/29 [==============================] - 1s 37ms/step - loss: 0.1676 - accuracy: 0.9408\n",
      "Epoch 4/20\n",
      "29/29 [==============================] - 1s 47ms/step - loss: 0.1769 - accuracy: 0.9394\n",
      "Epoch 5/20\n",
      "29/29 [==============================] - 2s 54ms/step - loss: 0.1672 - accuracy: 0.9419\n",
      "Epoch 6/20\n",
      "29/29 [==============================] - 1s 46ms/step - loss: 0.1296 - accuracy: 0.9573\n",
      "Epoch 7/20\n",
      "29/29 [==============================] - 1s 47ms/step - loss: 0.1258 - accuracy: 0.9541\n",
      "Epoch 8/20\n",
      "29/29 [==============================] - 1s 37ms/step - loss: 0.0913 - accuracy: 0.9657\n",
      "Epoch 9/20\n",
      "29/29 [==============================] - 1s 43ms/step - loss: 0.0845 - accuracy: 0.9699\n",
      "Epoch 10/20\n",
      "29/29 [==============================] - 1s 39ms/step - loss: 0.0739 - accuracy: 0.9748\n",
      "Epoch 11/20\n",
      "29/29 [==============================] - 1s 38ms/step - loss: 0.0599 - accuracy: 0.9797\n",
      "Epoch 12/20\n",
      "29/29 [==============================] - 1s 41ms/step - loss: 0.0521 - accuracy: 0.9825\n",
      "Epoch 13/20\n",
      "29/29 [==============================] - 1s 40ms/step - loss: 0.0506 - accuracy: 0.9821\n",
      "Epoch 14/20\n",
      "29/29 [==============================] - 1s 38ms/step - loss: 0.0352 - accuracy: 0.9898\n",
      "Epoch 15/20\n",
      "29/29 [==============================] - 1s 37ms/step - loss: 0.0223 - accuracy: 0.9926\n",
      "Epoch 16/20\n",
      "29/29 [==============================] - 1s 43ms/step - loss: 0.0210 - accuracy: 0.9937\n",
      "Epoch 17/20\n",
      "29/29 [==============================] - 1s 39ms/step - loss: 0.0261 - accuracy: 0.9902\n",
      "Epoch 18/20\n",
      "29/29 [==============================] - 1s 36ms/step - loss: 0.0121 - accuracy: 0.9975\n",
      "Epoch 19/20\n",
      "29/29 [==============================] - 1s 42ms/step - loss: 0.0083 - accuracy: 0.9982\n",
      "Epoch 20/20\n",
      "29/29 [==============================] - 1s 40ms/step - loss: 0.0110 - accuracy: 0.9968\n"
     ]
    }
   ],
   "source": [
    "history = model.fit(X_train, y_train,\n",
    "          batch_size=100,\n",
    "          epochs=20,\n",
    "          verbose=1)"
   ]
  },
  {
   "cell_type": "code",
   "execution_count": 8,
   "metadata": {},
   "outputs": [
    {
     "name": "stdout",
     "output_type": "stream",
     "text": [
      "30/30 [==============================] - 0s 5ms/step - loss: 0.1681 - accuracy: 0.9612\n",
      "Test accuracy: 0.961175262928009\n"
     ]
    }
   ],
   "source": [
    "# Test the model's accuracy with the test data\n",
    "test_loss, test_acc = model.evaluate(X_test, y_test)\n",
    "\n",
    "print('Test accuracy:', test_acc)\n"
   ]
  },
  {
   "cell_type": "code",
   "execution_count": 9,
   "metadata": {},
   "outputs": [
    {
     "data": {
      "text/html": [
       "<div>\n",
       "<style scoped>\n",
       "    .dataframe tbody tr th:only-of-type {\n",
       "        vertical-align: middle;\n",
       "    }\n",
       "\n",
       "    .dataframe tbody tr th {\n",
       "        vertical-align: top;\n",
       "    }\n",
       "\n",
       "    .dataframe thead th {\n",
       "        text-align: right;\n",
       "    }\n",
       "</style>\n",
       "<table border=\"1\" class=\"dataframe\">\n",
       "  <thead>\n",
       "    <tr style=\"text-align: right;\">\n",
       "      <th></th>\n",
       "      <th>loss</th>\n",
       "      <th>accuracy</th>\n",
       "      <th>epoch</th>\n",
       "    </tr>\n",
       "  </thead>\n",
       "  <tbody>\n",
       "    <tr>\n",
       "      <th>15</th>\n",
       "      <td>0.020956</td>\n",
       "      <td>0.99370</td>\n",
       "      <td>15</td>\n",
       "    </tr>\n",
       "    <tr>\n",
       "      <th>16</th>\n",
       "      <td>0.026055</td>\n",
       "      <td>0.99020</td>\n",
       "      <td>16</td>\n",
       "    </tr>\n",
       "    <tr>\n",
       "      <th>17</th>\n",
       "      <td>0.012083</td>\n",
       "      <td>0.99755</td>\n",
       "      <td>17</td>\n",
       "    </tr>\n",
       "    <tr>\n",
       "      <th>18</th>\n",
       "      <td>0.008265</td>\n",
       "      <td>0.99825</td>\n",
       "      <td>18</td>\n",
       "    </tr>\n",
       "    <tr>\n",
       "      <th>19</th>\n",
       "      <td>0.010976</td>\n",
       "      <td>0.99685</td>\n",
       "      <td>19</td>\n",
       "    </tr>\n",
       "  </tbody>\n",
       "</table>\n",
       "</div>"
      ],
      "text/plain": [
       "        loss  accuracy  epoch\n",
       "15  0.020956   0.99370     15\n",
       "16  0.026055   0.99020     16\n",
       "17  0.012083   0.99755     17\n",
       "18  0.008265   0.99825     18\n",
       "19  0.010976   0.99685     19"
      ]
     },
     "execution_count": 9,
     "metadata": {},
     "output_type": "execute_result"
    }
   ],
   "source": [
    "# Call the history attribute to store all results per epoch to a DataFrame\n",
    "hist = pd.DataFrame(history.history)\n",
    "# Add epoch number to the DataFrame\n",
    "hist['epoch'] = history.epoch\n",
    "# View last five epochs\n",
    "hist.tail()"
   ]
  },
  {
   "cell_type": "code",
   "execution_count": null,
   "metadata": {},
   "outputs": [],
   "source": []
  }
 ],
 "metadata": {
  "kernelspec": {
   "display_name": "Python 3",
   "language": "python",
   "name": "python3"
  },
  "language_info": {
   "codemirror_mode": {
    "name": "ipython",
    "version": 3
   },
   "file_extension": ".py",
   "mimetype": "text/x-python",
   "name": "python",
   "nbconvert_exporter": "python",
   "pygments_lexer": "ipython3",
   "version": "3.8.8"
  }
 },
 "nbformat": 4,
 "nbformat_minor": 4
}
